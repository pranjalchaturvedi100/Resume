{
 "cells": [
  {
   "cell_type": "markdown",
   "id": "85350586",
   "metadata": {},
   "source": [
    "# Task 4 - Comparative Study & Report:"
   ]
  },
  {
   "cell_type": "markdown",
   "id": "56c94a31",
   "metadata": {},
   "source": [
    "PM1   -  89 % Accuracy\n",
    "\n",
    "PM2   -  91 % Accuracy\n",
    "\n",
    "PM3   -  95 % Accuracy\n",
    "\n",
    "PM4   -  90 % Accuracy\n",
    "\n",
    "FLDM1 -  97 % Accuracy\n",
    "\n",
    "FLDM2 -  96 % Accuracy\n",
    "\n",
    "LR1   -  (Batch = 89 % Accuracy) , (Stochastic = 90 % Accuracy) , (Mini-Batch = 91 % Accuracy)\n",
    "\n",
    "LR2   -  (Batch = 97 % Accuracy) , (Stochastic = 96 % Accuracy) , (Mini-Batch = 97 % Accuracy)"
   ]
  },
  {
   "cell_type": "markdown",
   "id": "a2289d33",
   "metadata": {},
   "source": [
    "# Perceptron Algorithm Model\n",
    "Model gives poor results on un-normalised data. It requires alot of iterations, also we can never know if the model is completely linearly separable or not. \n",
    "\n",
    "### <u>Observation:</u>\n",
    "\n",
    "1. There is no substantial difference in results after changing the order of tuples in training data as PM1 and PM3 has similar    evaluation metrics.\n",
    "\n",
    "2. Results improve substantially in PM3 as compared to PM1, PM2 and PM4 due to normalizations.\n",
    "\n",
    "3. There is no substantial difference in results after chaniging the order of features in taining data as PM1 and PM4 has similar    evaluation metrics.\n",
    "\n",
    "\n",
    "\n"
   ]
  },
  {
   "cell_type": "markdown",
   "id": "ae71c0ed",
   "metadata": {},
   "source": [
    "### <u>Algorithm Used:</u>\n",
    "\n",
    "<img src=\"pm.png\" align = \"left\" width = \"500\">"
   ]
  },
  {
   "cell_type": "markdown",
   "id": "62a9699b",
   "metadata": {},
   "source": [
    "# Fisher's Linear Discriminant Algorithm Model\n",
    "Model gives great results on un-normalised data. It requires lesser time as compared to other Algorithms implemented. \n",
    "\n",
    "### <u>Observation:</u>\n",
    "\n",
    "1.  There is no substantial difference in results after changing the order of features in training data as FLDR1 and FLDR2 has       similar evaluation metrics. The only difference is the projection vector on to which the training data is projected."
   ]
  },
  {
   "cell_type": "markdown",
   "id": "6c0ff241",
   "metadata": {},
   "source": [
    "### <u>Formula for Projection Vector:</u>\n",
    "\n",
    "<img src=\"fl1.png\" align = \"left\" width = \"300\">\n",
    "<img src=\"pp.png\" align = \"left\" width = \"700\">\n",
    "\n"
   ]
  },
  {
   "cell_type": "markdown",
   "id": "d6cdcd68",
   "metadata": {},
   "source": [
    "### <u>Formula for Discriminant Point:</u>\n",
    "\n",
    "<img src=\"p.png\" align = \"left\" width = \"700\">"
   ]
  },
  {
   "cell_type": "markdown",
   "id": "75a6f229",
   "metadata": {},
   "source": [
    "# Logistic Regression Algorithm Model\n",
    "Model gives poor results on un-normalised data. It requires reasonable amount of iterations.\n",
    "\n",
    "### <u>Observation:</u>\n",
    "\n",
    "#### On Basis of Un-Normalised and Normalised Data\n",
    "    Un-Normalised model gives relatively poorer results on Un-Normalised Data.\n",
    "    Un-Normalised Data gives around 90% accuracy, whereas Normalised Data returns around 96-97% accuracy.\n",
    "    \n",
    "#### On Basis of Different Types of Regression\n",
    "    1. Batch Regression- It gives a high accuracy upto 98% on average. It takes longer for updating the weight vector as         it runs through one epoch before updating.\n",
    "    2. Stochastic Regression - It gives faster convergence to the point of minima. It may have slighly lesser accuracy, but its  highly optimal if the datasize is very huge. Accuracy is about 96-97%.\n",
    "    3. Mini Batch - It also gives a very high accuracy.\n",
    "    \n",
    "    All these Models give similar high accuracy.\n",
    "\n",
    "#### On Basis of Differnet Learning Rates\n",
    "    A higher Learning Rate means lesser iterations and faster gradient descent. Although it may overstep and miss the point         of minima. Negligible and inconsistent differences in Batch and Mini-Batch Models. \n",
    "    \n",
    "#### On Basis of Differnet Thresholds\n",
    "    Different Thresholds trained on a specific weight vector for a given training and test data gives :-\n",
    "    # Almost Similar Accuracies for Un-Normalised Data.\n",
    "    # Different Accuracies varying btw 94-99% on average.\n",
    "\n"
   ]
  },
  {
   "cell_type": "markdown",
   "id": "ff712740",
   "metadata": {},
   "source": [
    "### <u>Formula for Gradient Descent:</u>\n",
    "\n",
    "<img src=\"ppp.png\" align = \"left\" width = \"700\">\n",
    "\n"
   ]
  },
  {
   "cell_type": "markdown",
   "id": "23c0a4a4",
   "metadata": {},
   "source": [
    "#                                        BATCH GRADIENT DESCENT"
   ]
  },
  {
   "cell_type": "markdown",
   "id": "a6c1fc24",
   "metadata": {},
   "source": [
    "<table>\n",
    "    <tr>\n",
    "        <td>\n",
    "            <img src=\"lr1, batch,0.01.png\" align = \"left\" width = \"300\">\n",
    "        </td>\n",
    "        <td>\n",
    "            <img src=\"lr1, batch,0.001.png\" align = \"left\" width = \"300\">\n",
    "        </td>\n",
    "        <td>\n",
    "            <img src=\"lr1,batch,0.0001.png\" align = \"left\" width = \"300\">\n",
    "        </td>\n",
    "    </tr>\n",
    "</table>"
   ]
  },
  {
   "cell_type": "markdown",
   "id": "57e5d402",
   "metadata": {},
   "source": [
    "<table>\n",
    "    <tr>\n",
    "        <td>\n",
    "            <img src=\"b1.png\" align = \"left\" width = \"300\">\n",
    "        </td>\n",
    "        <td>\n",
    "            <img src=\"b2.png\" align = \"left\" width = \"300\">\n",
    "        </td>\n",
    "        <td>\n",
    "            <img src=\"b3.png\" align = \"left\" width = \"300\">\n",
    "        </td>\n",
    "    </tr>\n",
    "</table>"
   ]
  },
  {
   "cell_type": "markdown",
   "id": "283ec744",
   "metadata": {},
   "source": [
    "#                                        STOCHASTIC GRADIENT DESCENT"
   ]
  },
  {
   "cell_type": "markdown",
   "id": "0b5b9351",
   "metadata": {},
   "source": [
    "<table>\n",
    "    <tr>\n",
    "        <td>\n",
    "            <img src=\"lr1.stoch.0.01.png\" align = \"left\" width = \"300\">\n",
    "        </td>\n",
    "        <td>\n",
    "            <img src=\"lr1,stoch,0.001.png\" align = \"left\" width = \"300\">\n",
    "        </td>\n",
    "        <td>\n",
    "            <img src=\"lr1,stoch,0.0001.png\" align = \"left\" width = \"300\">\n",
    "        </td>\n",
    "    </tr>\n",
    "</table>"
   ]
  },
  {
   "cell_type": "markdown",
   "id": "caa2505c",
   "metadata": {},
   "source": [
    "<table>\n",
    "    <tr>\n",
    "        <td>\n",
    "            <img src=\"s1.png\" align = \"left\" width = \"300\">\n",
    "        </td>\n",
    "        <td>\n",
    "            <img src=\"s2.png\" align = \"left\" width = \"300\">\n",
    "        </td>\n",
    "        <td>\n",
    "            <img src=\"s3.png\" align = \"left\" width = \"300\">\n",
    "        </td>\n",
    "    </tr>\n",
    "</table>"
   ]
  },
  {
   "cell_type": "markdown",
   "id": "9f38c1ed",
   "metadata": {},
   "source": [
    "#                                        MINI - BATCH STOCHASTIC GRADIENT DESCENT"
   ]
  },
  {
   "cell_type": "markdown",
   "id": "f1b5f935",
   "metadata": {},
   "source": [
    "<table>\n",
    "    <tr>\n",
    "        <td>\n",
    "            <img src=\"lr1.mini.0.01.png\" align = \"left\" width = \"300\">\n",
    "        </td>\n",
    "        <td>\n",
    "            <img src=\"qq.png\" align = \"left\" width = \"300\">\n",
    "        </td>\n",
    "        <td>\n",
    "            <img src=\"lr1,mini,0.0001.png\" align = \"left\" width = \"300\">\n",
    "        </td>\n",
    "    </tr>\n",
    "</table>"
   ]
  },
  {
   "cell_type": "markdown",
   "id": "d2bb4b57",
   "metadata": {},
   "source": [
    "<table>\n",
    "    <tr>\n",
    "        <td>\n",
    "            <img src=\"mbs1.png\" align = \"left\" width = \"300\">\n",
    "        </td>\n",
    "        <td>\n",
    "            <img src=\"mbs2.png\" align = \"left\" width = \"300\">\n",
    "        </td>\n",
    "        <td>\n",
    "            <img src=\"msb3.png\" align = \"left\" width = \"300\">\n",
    "        </td>\n",
    "    </tr>\n",
    "</table>"
   ]
  },
  {
   "cell_type": "markdown",
   "id": "92ca08c4",
   "metadata": {},
   "source": [
    "# COMPARITIVE STUDY\n",
    "Normalised Data produces better results with all models.\n",
    "Logistic Regression Model 2 and Fisher Linear Discriminant Model both produces highly accurate results\n",
    "These two can be used to predict Malignancy of Tumours in Satisfiable amount of time.\n",
    "\n",
    "1. Perceptron produces better results with normalized data.\n",
    "2. Fischer produces good results with un-normalized data.\n",
    "3. Logistic Regression produces better results with normailzed data.\n",
    "\n",
    "In conclusion we can infer that results for Perceptron and Logistic Regression improve with Normalization while Fischer produces good results with unnormalized data.\n",
    "\n",
    "1. Perceptron takes longer to train but gives good results with noramlized data.\n",
    "2. Fischer takes short amount of time and produces a similar result as Perceptron using unnormalized data.\n",
    "3. Logistic Regression produces the best results taking average amount of time with normalized data.\n",
    "\n",
    "In conclusion Logistic Regression provides the best result among the three models follwed by Fischer and Perceptron."
   ]
  },
  {
   "cell_type": "code",
   "execution_count": null,
   "id": "ec49a2dd",
   "metadata": {},
   "outputs": [],
   "source": []
  }
 ],
 "metadata": {
  "kernelspec": {
   "display_name": "Python 3 (ipykernel)",
   "language": "python",
   "name": "python3"
  },
  "language_info": {
   "codemirror_mode": {
    "name": "ipython",
    "version": 3
   },
   "file_extension": ".py",
   "mimetype": "text/x-python",
   "name": "python",
   "nbconvert_exporter": "python",
   "pygments_lexer": "ipython3",
   "version": "3.10.9"
  }
 },
 "nbformat": 4,
 "nbformat_minor": 5
}
